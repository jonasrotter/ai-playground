{
 "cells": [
  {
   "cell_type": "markdown",
   "metadata": {},
   "source": [
    "# Running Specialized Agents in Parallel with the OpenAI Agents SDK\n",
    "\n",
    "Why would you want to do this?\n",
    "In many production workflows you must answer several independent questions about the same piece of content.\n",
    "Doing those analyses one-by-one increases latency and can increase total cost if any step fails and forces a retry.\n",
    "By \"fanning out\" multiple specialized agents at the same time and then \"fanning in\" their outputs to a final “meta” agent, you're able to reduce this latency.\n",
    "\n",
    "This notebook present a toy example that you likely wouldn't parallelize in the real world, but that shows:\n",
    "1. How to define several focused agents with the OpenAI Agents SDK.\n",
    "2. How to execute them concurrently using either Python [asyncio](https://docs.python.org/3/library/asyncio.html) for lower latency, lightweight parallelization or directly through the [Agents SDK](https://openai.github.io/openai-agents-python/tools/#agents-as-tools) for ease of management and dynamic tool call planning.\n",
    "3. How to gather their individual outputs and feed them into a downstream meta-agent that produces the final, user-ready answer.\n",
    "4. A simple timeline visualization so you can see the latency benefit of parallelization.\n",
    "\n",
    "This same pattern can be adapted to real world scenarios such as customer-support triage, content moderation, or other scenarios where you might want to run multiple independent analyses on an input and merge them into a single outcome."
   ]
  },
  {
   "cell_type": "markdown",
   "metadata": {},
   "source": [
    "1. Install dependencies"
   ]
  },
  {
   "cell_type": "code",
   "execution_count": null,
   "metadata": {},
   "outputs": [
    {
     "name": "stdout",
     "output_type": "stream",
     "text": [
      "Requirement already satisfied: openai-agents in c:\\users\\jonasrotter\\desktop\\demos\\ai-playground\\playgroundenv\\lib\\site-packages (0.1.0)\n",
      "Collecting asyncio\n",
      "  Downloading asyncio-3.4.3-py3-none-any.whl.metadata (1.7 kB)\n",
      "Requirement already satisfied: matplotlib in c:\\users\\jonasrotter\\desktop\\demos\\ai-playground\\playgroundenv\\lib\\site-packages (3.10.3)\n",
      "Requirement already satisfied: nest_asyncio in c:\\users\\jonasrotter\\desktop\\demos\\ai-playground\\playgroundenv\\lib\\site-packages (1.6.0)\n",
      "Requirement already satisfied: griffe<2,>=1.5.6 in c:\\users\\jonasrotter\\desktop\\demos\\ai-playground\\playgroundenv\\lib\\site-packages (from openai-agents) (1.7.3)\n",
      "Requirement already satisfied: mcp<2,>=1.9.4 in c:\\users\\jonasrotter\\desktop\\demos\\ai-playground\\playgroundenv\\lib\\site-packages (from openai-agents) (1.10.1)\n",
      "Requirement already satisfied: openai>=1.87.0 in c:\\users\\jonasrotter\\desktop\\demos\\ai-playground\\playgroundenv\\lib\\site-packages (from openai-agents) (1.93.0)\n",
      "Requirement already satisfied: pydantic<3,>=2.10 in c:\\users\\jonasrotter\\desktop\\demos\\ai-playground\\playgroundenv\\lib\\site-packages (from openai-agents) (2.11.7)\n",
      "Requirement already satisfied: requests<3,>=2.0 in c:\\users\\jonasrotter\\desktop\\demos\\ai-playground\\playgroundenv\\lib\\site-packages (from openai-agents) (2.32.4)\n",
      "Requirement already satisfied: types-requests<3,>=2.0 in c:\\users\\jonasrotter\\desktop\\demos\\ai-playground\\playgroundenv\\lib\\site-packages (from openai-agents) (2.32.4.20250611)\n",
      "Requirement already satisfied: typing-extensions<5,>=4.12.2 in c:\\users\\jonasrotter\\desktop\\demos\\ai-playground\\playgroundenv\\lib\\site-packages (from openai-agents) (4.14.0)\n",
      "Requirement already satisfied: colorama>=0.4 in c:\\users\\jonasrotter\\desktop\\demos\\ai-playground\\playgroundenv\\lib\\site-packages (from griffe<2,>=1.5.6->openai-agents) (0.4.6)\n",
      "Requirement already satisfied: anyio>=4.5 in c:\\users\\jonasrotter\\desktop\\demos\\ai-playground\\playgroundenv\\lib\\site-packages (from mcp<2,>=1.9.4->openai-agents) (4.9.0)\n",
      "Requirement already satisfied: httpx-sse>=0.4 in c:\\users\\jonasrotter\\desktop\\demos\\ai-playground\\playgroundenv\\lib\\site-packages (from mcp<2,>=1.9.4->openai-agents) (0.4.1)\n",
      "Requirement already satisfied: httpx>=0.27 in c:\\users\\jonasrotter\\desktop\\demos\\ai-playground\\playgroundenv\\lib\\site-packages (from mcp<2,>=1.9.4->openai-agents) (0.28.1)\n",
      "Requirement already satisfied: jsonschema>=4.20.0 in c:\\users\\jonasrotter\\desktop\\demos\\ai-playground\\playgroundenv\\lib\\site-packages (from mcp<2,>=1.9.4->openai-agents) (4.24.0)\n",
      "Requirement already satisfied: pydantic-settings>=2.5.2 in c:\\users\\jonasrotter\\desktop\\demos\\ai-playground\\playgroundenv\\lib\\site-packages (from mcp<2,>=1.9.4->openai-agents) (2.10.1)\n",
      "Requirement already satisfied: python-multipart>=0.0.9 in c:\\users\\jonasrotter\\desktop\\demos\\ai-playground\\playgroundenv\\lib\\site-packages (from mcp<2,>=1.9.4->openai-agents) (0.0.20)\n",
      "Requirement already satisfied: sse-starlette>=1.6.1 in c:\\users\\jonasrotter\\desktop\\demos\\ai-playground\\playgroundenv\\lib\\site-packages (from mcp<2,>=1.9.4->openai-agents) (2.3.6)\n",
      "Requirement already satisfied: starlette>=0.27 in c:\\users\\jonasrotter\\desktop\\demos\\ai-playground\\playgroundenv\\lib\\site-packages (from mcp<2,>=1.9.4->openai-agents) (0.47.1)\n",
      "Requirement already satisfied: uvicorn>=0.23.1 in c:\\users\\jonasrotter\\desktop\\demos\\ai-playground\\playgroundenv\\lib\\site-packages (from mcp<2,>=1.9.4->openai-agents) (0.35.0)\n",
      "Requirement already satisfied: annotated-types>=0.6.0 in c:\\users\\jonasrotter\\desktop\\demos\\ai-playground\\playgroundenv\\lib\\site-packages (from pydantic<3,>=2.10->openai-agents) (0.7.0)\n",
      "Requirement already satisfied: pydantic-core==2.33.2 in c:\\users\\jonasrotter\\desktop\\demos\\ai-playground\\playgroundenv\\lib\\site-packages (from pydantic<3,>=2.10->openai-agents) (2.33.2)\n",
      "Requirement already satisfied: typing-inspection>=0.4.0 in c:\\users\\jonasrotter\\desktop\\demos\\ai-playground\\playgroundenv\\lib\\site-packages (from pydantic<3,>=2.10->openai-agents) (0.4.1)\n",
      "Requirement already satisfied: charset_normalizer<4,>=2 in c:\\users\\jonasrotter\\desktop\\demos\\ai-playground\\playgroundenv\\lib\\site-packages (from requests<3,>=2.0->openai-agents) (3.4.2)\n",
      "Requirement already satisfied: idna<4,>=2.5 in c:\\users\\jonasrotter\\desktop\\demos\\ai-playground\\playgroundenv\\lib\\site-packages (from requests<3,>=2.0->openai-agents) (3.10)\n",
      "Requirement already satisfied: urllib3<3,>=1.21.1 in c:\\users\\jonasrotter\\desktop\\demos\\ai-playground\\playgroundenv\\lib\\site-packages (from requests<3,>=2.0->openai-agents) (2.5.0)\n",
      "Requirement already satisfied: certifi>=2017.4.17 in c:\\users\\jonasrotter\\desktop\\demos\\ai-playground\\playgroundenv\\lib\\site-packages (from requests<3,>=2.0->openai-agents) (2025.6.15)\n",
      "Requirement already satisfied: contourpy>=1.0.1 in c:\\users\\jonasrotter\\desktop\\demos\\ai-playground\\playgroundenv\\lib\\site-packages (from matplotlib) (1.3.2)\n",
      "Requirement already satisfied: cycler>=0.10 in c:\\users\\jonasrotter\\desktop\\demos\\ai-playground\\playgroundenv\\lib\\site-packages (from matplotlib) (0.12.1)\n",
      "Requirement already satisfied: fonttools>=4.22.0 in c:\\users\\jonasrotter\\desktop\\demos\\ai-playground\\playgroundenv\\lib\\site-packages (from matplotlib) (4.58.4)\n",
      "Requirement already satisfied: kiwisolver>=1.3.1 in c:\\users\\jonasrotter\\desktop\\demos\\ai-playground\\playgroundenv\\lib\\site-packages (from matplotlib) (1.4.8)\n",
      "Requirement already satisfied: numpy>=1.23 in c:\\users\\jonasrotter\\desktop\\demos\\ai-playground\\playgroundenv\\lib\\site-packages (from matplotlib) (2.3.1)\n",
      "Requirement already satisfied: packaging>=20.0 in c:\\users\\jonasrotter\\desktop\\demos\\ai-playground\\playgroundenv\\lib\\site-packages (from matplotlib) (25.0)\n",
      "Requirement already satisfied: pillow>=8 in c:\\users\\jonasrotter\\desktop\\demos\\ai-playground\\playgroundenv\\lib\\site-packages (from matplotlib) (11.2.1)\n",
      "Requirement already satisfied: pyparsing>=2.3.1 in c:\\users\\jonasrotter\\desktop\\demos\\ai-playground\\playgroundenv\\lib\\site-packages (from matplotlib) (3.2.3)\n",
      "Requirement already satisfied: python-dateutil>=2.7 in c:\\users\\jonasrotter\\desktop\\demos\\ai-playground\\playgroundenv\\lib\\site-packages (from matplotlib) (2.9.0.post0)\n",
      "Requirement already satisfied: sniffio>=1.1 in c:\\users\\jonasrotter\\desktop\\demos\\ai-playground\\playgroundenv\\lib\\site-packages (from anyio>=4.5->mcp<2,>=1.9.4->openai-agents) (1.3.1)\n",
      "Requirement already satisfied: httpcore==1.* in c:\\users\\jonasrotter\\desktop\\demos\\ai-playground\\playgroundenv\\lib\\site-packages (from httpx>=0.27->mcp<2,>=1.9.4->openai-agents) (1.0.9)\n",
      "Requirement already satisfied: h11>=0.16 in c:\\users\\jonasrotter\\desktop\\demos\\ai-playground\\playgroundenv\\lib\\site-packages (from httpcore==1.*->httpx>=0.27->mcp<2,>=1.9.4->openai-agents) (0.16.0)\n",
      "Requirement already satisfied: attrs>=22.2.0 in c:\\users\\jonasrotter\\desktop\\demos\\ai-playground\\playgroundenv\\lib\\site-packages (from jsonschema>=4.20.0->mcp<2,>=1.9.4->openai-agents) (25.3.0)\n",
      "Requirement already satisfied: jsonschema-specifications>=2023.03.6 in c:\\users\\jonasrotter\\desktop\\demos\\ai-playground\\playgroundenv\\lib\\site-packages (from jsonschema>=4.20.0->mcp<2,>=1.9.4->openai-agents) (2025.4.1)\n",
      "Requirement already satisfied: referencing>=0.28.4 in c:\\users\\jonasrotter\\desktop\\demos\\ai-playground\\playgroundenv\\lib\\site-packages (from jsonschema>=4.20.0->mcp<2,>=1.9.4->openai-agents) (0.36.2)\n",
      "Requirement already satisfied: rpds-py>=0.7.1 in c:\\users\\jonasrotter\\desktop\\demos\\ai-playground\\playgroundenv\\lib\\site-packages (from jsonschema>=4.20.0->mcp<2,>=1.9.4->openai-agents) (0.25.1)\n",
      "Requirement already satisfied: distro<2,>=1.7.0 in c:\\users\\jonasrotter\\desktop\\demos\\ai-playground\\playgroundenv\\lib\\site-packages (from openai>=1.87.0->openai-agents) (1.9.0)\n",
      "Requirement already satisfied: jiter<1,>=0.4.0 in c:\\users\\jonasrotter\\desktop\\demos\\ai-playground\\playgroundenv\\lib\\site-packages (from openai>=1.87.0->openai-agents) (0.10.0)\n",
      "Requirement already satisfied: tqdm>4 in c:\\users\\jonasrotter\\desktop\\demos\\ai-playground\\playgroundenv\\lib\\site-packages (from openai>=1.87.0->openai-agents) (4.67.1)\n",
      "Requirement already satisfied: python-dotenv>=0.21.0 in c:\\users\\jonasrotter\\desktop\\demos\\ai-playground\\playgroundenv\\lib\\site-packages (from pydantic-settings>=2.5.2->mcp<2,>=1.9.4->openai-agents) (1.1.1)\n",
      "Requirement already satisfied: six>=1.5 in c:\\users\\jonasrotter\\desktop\\demos\\ai-playground\\playgroundenv\\lib\\site-packages (from python-dateutil>=2.7->matplotlib) (1.17.0)\n",
      "Requirement already satisfied: click>=7.0 in c:\\users\\jonasrotter\\desktop\\demos\\ai-playground\\playgroundenv\\lib\\site-packages (from uvicorn>=0.23.1->mcp<2,>=1.9.4->openai-agents) (8.2.1)\n",
      "Downloading asyncio-3.4.3-py3-none-any.whl (101 kB)\n",
      "Installing collected packages: asyncio\n",
      "Successfully installed asyncio-3.4.3\n",
      "Note: you may need to restart the kernel to use updated packages.\n"
     ]
    },
    {
     "name": "stderr",
     "output_type": "stream",
     "text": [
      "Matplotlib is building the font cache; this may take a moment.\n"
     ]
    }
   ],
   "source": [
    "import time\n",
    "\n",
    "import asyncio\n",
    "import matplotlib.pyplot as plt\n",
    "import nest_asyncio\n",
    "\n",
    "from agents import Agent, Runner\n",
    "\n",
    "nest_asyncio.apply()"
   ]
  },
  {
   "cell_type": "markdown",
   "metadata": {},
   "source": [
    "2. Define your Agents"
   ]
  },
  {
   "cell_type": "code",
   "execution_count": 2,
   "metadata": {},
   "outputs": [],
   "source": [
    "# Agent focusing on product features\n",
    "features_agent = Agent(\n",
    "    name=\"FeaturesAgent\",\n",
    "    instructions=\"Extract the key product features from the review.\"\n",
    ")\n",
    "\n",
    "# Agent focusing on pros & cons\n",
    "pros_cons_agent = Agent(\n",
    "    name=\"ProsConsAgent\",\n",
    "    instructions=\"List the pros and cons mentioned in the review.\"\n",
    ")\n",
    "\n",
    "# Agent focusing on sentiment analysis\n",
    "sentiment_agent = Agent(\n",
    "    name=\"SentimentAgent\",\n",
    "    instructions=\"Summarize the overall user sentiment from the review.\"\n",
    ")\n",
    "\n",
    "# Agent focusing on recommendation summary\n",
    "recommend_agent = Agent(\n",
    "    name=\"RecommendAgent\",\n",
    "    instructions=\"State whether you would recommend this product and why.\"\n",
    ")\n",
    "\n",
    "parallel_agents = [\n",
    "    features_agent,\n",
    "    pros_cons_agent,\n",
    "    sentiment_agent,\n",
    "    recommend_agent\n",
    "]\n",
    "\n",
    "# Meta-agent to combine outputs\n",
    "meta_agent = Agent(\n",
    "    name=\"MetaAgent\",\n",
    "    instructions=\"You are given multiple summaries labeled with Features, ProsCons, Sentiment, and a Recommendation.\"\n",
    "    \" Combine them into a concise executive summary of the product review with a 1-5 star rating for each summary area.\"\n",
    ")\n"
   ]
  },
  {
   "cell_type": "code",
   "execution_count": 3,
   "metadata": {},
   "outputs": [],
   "source": [
    "starts, ends = [], []\n",
    "async def run_agent(agent, review_text: str):\n",
    "    agent_name = agent.name\n",
    "\n",
    "    start = time.time()\n",
    "    starts.append((agent_name, start))\n",
    "\n",
    "    result = await Runner.run(agent, review_text)\n",
    "\n",
    "    end = time.time()\n",
    "    ends.append((agent_name, end))\n",
    "\n",
    "    return result"
   ]
  },
  {
   "cell_type": "markdown",
   "metadata": {},
   "source": [
    "3. Create function for parallel execution"
   ]
  },
  {
   "cell_type": "code",
   "execution_count": 4,
   "metadata": {},
   "outputs": [],
   "source": [
    "async def run_agents(review_text: str):\n",
    "    responses = await asyncio.gather(\n",
    "        *(run_agent(agent, review_text) for agent in parallel_agents)\n",
    "    )\n",
    "\n",
    "    labeled_summaries = [\n",
    "        f\"### {resp.last_agent.name}\\n{resp.final_output}\"\n",
    "        for resp in responses\n",
    "    ]\n",
    "\n",
    "    collected_summaries = \"\\n\".join(labeled_summaries)\n",
    "    final_summary = await run_agent(meta_agent, collected_summaries)\n",
    "\n",
    "\n",
    "    print('Final summary:', final_summary.final_output)\n",
    "\n",
    "    return"
   ]
  },
  {
   "cell_type": "code",
   "execution_count": 5,
   "metadata": {},
   "outputs": [
    {
     "name": "stdout",
     "output_type": "stream",
     "text": [
      "Final summary: ### Executive Summary\n",
      "\n",
      "The AuroraSound X2 wireless noise-cancelling headphones offer a premium design and a range of features that make them an appealing choice for audio enthusiasts. \n",
      "\n",
      "#### Features (Rating: ★★★★☆)\n",
      "- **Design**: The headphones have a premium feel with a matte finish, memory-foam padding, and a smooth, rotational design, although the carrying case is bulky.\n",
      "- **Connectivity**: Equipped with Bluetooth 5.2, they provide seamless, stable connections.\n",
      "- **Noise-Cancelling**: The ANC is highly effective, complemented by a well-tuned Transparency mode.\n",
      "- **Audio Quality**: Delivers rich, balanced sound with a customizable EQ app.\n",
      "- **Controls**: Includes intuitive touch panels and voice assistant integration, despite occasional interface issues.\n",
      "- **Battery Life**: Offers over 30 hours with ANC and a rapid 10-minute quick-charge feature. Color choices are limited to black and white.\n",
      "\n",
      "#### Pros and Cons (Rating: ★★★★☆)\n",
      "- **Pros**: Exceptional design and comfort, effective ANC, seamless connectivity, rich audio quality, intuitive controls, and outstanding battery life.\n",
      "- **Cons**: Bulky carrying case, occasional touch control mishaps, and limited color options.\n",
      "\n",
      "#### Sentiment (Rating: ★★★★★)\n",
      "The sentiment is overwhelmingly positive, emphasizing premium design, comfort, seamless connectivity, effective noise cancellation, and excellent audio. Criticisms are minimal, focusing on minor issues like the carrying case and interface.\n",
      "\n",
      "#### Recommendation (Rating: ★★★★☆)\n",
      "The AuroraSound X2 headphones are highly recommended for their comfort, connectivity, noise-cancellation, and audio quality. While there are minor drawbacks, such as a bulky case and limited colors, these are outweighed by the headphones' impressive performance and features.\n",
      "\n",
      "Overall, the AuroraSound X2 headphones are an excellent choice for users seeking high-quality wireless audio with effective noise cancellation.\n"
     ]
    },
    {
     "data": {
      "image/png": "[encoded data removed]",
      "text/plain": [
       "<Figure size 800x300 with 1 Axes>"
      ]
     },
     "metadata": {},
     "output_type": "display_data"
    }
   ],
   "source": [
    "review_text = \"\"\"\n",
    "I recently upgraded to the AuroraSound X2 wireless noise-cancelling headphones, and after two weeks of daily use I have quite a bit to share. First off, the design feels premium without being flashy: the matte‐finish ear cups are softly padded and rotate smoothly for storage, while the headband’s memory‐foam cushion barely presses on my temples even after marathon work calls. Connectivity is seamless—pairing with my laptop and phone took under five seconds each time, and the Bluetooth 5.2 link held rock-solid through walls and down the hallway.\n",
    "\n",
    "The noise-cancelling performance is genuinely impressive. In a busy café with music and chatter swirling around, flipping on ANC immediately quiets low-level ambient hums, and it even attenuates sudden noises—like the barista’s milk frother—without sounding distorted. The “Transparency” mode is equally well‐tuned: voices come through clearly, but the world outside isn’t overwhelmingly loud. Audio quality in standard mode is rich and balanced, with tight bass, clear mids, and a hint of sparkle in the highs. There’s also a dedicated EQ app, where you can toggle between “Podcast,” “Bass Boost,” and “Concert Hall” presets or craft your own curve.\n",
    "\n",
    "On the control front, intuitive touch panels let you play/pause, skip tracks, and adjust volume with a simple swipe or tap. One neat trick: holding down on the right ear cup invokes your phone’s voice assistant. Battery life lives up to the hype, too—over 30 hours with ANC on, and the quick‐charge feature delivers 2 hours of playtime from just a 10-minute top-up.\n",
    "\n",
    "That said, it isn’t perfect. For one, the carrying case is a bit bulky, so it doesn’t slip easily into a slim bag. And while the touch interface is mostly reliable, I occasionally trigger a pause when trying to adjust the cup position. The headphones also come in only two colorways—black or white—which feels limiting given the premium price point.\n",
    "\"\"\"\n",
    "\n",
    "asyncio.get_event_loop().run_until_complete(run_agents(review_text))\n",
    "\n",
    "def plot_timeline(starts, ends):\n",
    "\n",
    "    # Plot the timeline of the agents\n",
    "    # normalize times to zero\n",
    "    base = min(t for _, t in starts)\n",
    "    labels = [n for n, _ in starts]\n",
    "    start_offsets = [t - base for _, t in starts]\n",
    "    lengths = [ends[i][1] - starts[i][1] for i in range(len(starts))]\n",
    "\n",
    "    plt.figure(figsize=(8, 3))\n",
    "    plt.barh(labels, lengths, left=start_offsets)\n",
    "    plt.xlabel(\"Seconds since kickoff\")\n",
    "    plt.title(\"Agent Execution Timeline\")\n",
    "    plt.show()\n",
    "\n",
    "plot_timeline(starts, ends)"
   ]
  },
  {
   "cell_type": "markdown",
   "metadata": {},
   "source": [
    "The agents can also be parallelized directly through the SDK via the \"agent as tool\" route, adding convenience and the assistance of the planner dynamically deciding which tools to call at the expense of higher latency. This latency comes both from the additional planning API call up front, along with the higher overhead and context from the tool call objects."
   ]
  },
  {
   "cell_type": "code",
   "execution_count": 6,
   "metadata": {},
   "outputs": [
    {
     "name": "stdout",
     "output_type": "stream",
     "text": [
      "Final summary: ### Executive Summary\n",
      "\n",
      "The AuroraSound X2 wireless noise-cancelling headphones receive very positive overall feedback. Here's a breakdown:\n",
      "\n",
      "#### Features: ★★★★☆\n",
      "The headphones boast a premium design with matte-finish ear cups and a memory-foam headband that ensures comfort during extended use. They provide seamless and stable Bluetooth 5.2 connectivity. The noise-cancelling and transparency modes are highly effective, and the sound quality is rich and balanced. The EQ app allows customization, and intuitive touch controls offer ease of use. Additionally, the 30-hour battery life with quick-charge capabilities is impressive. However, the carrying case is bulky, and the color options are limited.\n",
      "\n",
      "#### Pros and Cons: ★★★★☆\n",
      "**Pros:**\n",
      "- Premium, comfortable design\n",
      "- Quick and stable Bluetooth connectivity\n",
      "- Effective noise-cancelling and transparency modes\n",
      "- Rich audio quality with EQ options\n",
      "- Intuitive touch controls\n",
      "- Long battery life with a quick-charge feature\n",
      "\n",
      "**Cons:**\n",
      "- Bulky carrying case\n",
      "- Occasional touch interface issues\n",
      "- Limited color options\n",
      "\n",
      "#### Sentiment: ★★★★★\n",
      "The sentiment is very positive, highlighting satisfaction with design, comfort, connectivity, noise cancellation, sound quality, and battery life. Minor downsides do not significantly impact the overall positive experience.\n",
      "\n",
      "#### Recommendation: ★★★★☆\n",
      "The AuroraSound X2 headphones are recommended for their overall performance and innovative features. While the carrying case bulk and color limitations are noted, these drawbacks are minor in light of the impressive noise-cancelling, audio quality, and user-friendly design features.\n",
      "\n",
      "Overall, the AuroraSound X2 headphones are well-regarded, making them a strong option for those seeking high-quality wireless headphones.\n"
     ]
    },
    {
     "data": {
      "image/png": "[encoded data removed]",
      "text/plain": [
       "<Figure size 800x300 with 1 Axes>"
      ]
     },
     "metadata": {},
     "output_type": "display_data"
    }
   ],
   "source": [
    "from agents import ModelSettings\n",
    "\n",
    "\n",
    "meta_agent_parallel_tools = Agent(\n",
    "    name=\"MetaAgent\",\n",
    "    instructions=\"You are given multiple summaries labeled with Features, ProsCons, Sentiment, and a Recommendation.\"\n",
    "    \" Combine them into a concise executive summary of the product review with a 1-5 star rating for each summary area.\",\n",
    "   model_settings=ModelSettings(\n",
    "       parallel_tool_calls=True\n",
    "   ),\n",
    "    tools=[\n",
    "        features_agent.as_tool(\n",
    "            tool_name=\"features\",\n",
    "            tool_description=\"Extract the key product features from the review.\",\n",
    "        ),\n",
    "        pros_cons_agent.as_tool(\n",
    "            tool_name=\"pros_cons\",\n",
    "            tool_description=\"List the pros and cons mentioned in the review.\",\n",
    "        ),\n",
    "        sentiment_agent.as_tool(\n",
    "            tool_name=\"sentiment\",\n",
    "            tool_description=\"Summarize the overall user sentiment from the review.\",\n",
    "        ),\n",
    "        recommend_agent.as_tool(\n",
    "            tool_name=\"recommend\",\n",
    "            tool_description=\"State whether you would recommend this product and why.\",\n",
    "        ),\n",
    "    ],\n",
    ")\n",
    "\n",
    "starts, ends = [], []\n",
    "result = await run_agent(meta_agent_parallel_tools, review_text)\n",
    "\n",
    "print('Final summary:', result.final_output)\n",
    "\n",
    "plot_timeline(starts, ends)\n"
   ]
  },
  {
   "cell_type": "markdown",
   "metadata": {},
   "source": [
    "## Summary\n",
    "\n",
    "From the above, we can see two different patterns for parallelizing agents. Ultimately, the approach you use will depend on the balance you want between:\n",
    "\n",
    "1. Convenience vs. customization\n",
    "    * If you prefer convenience, the agent as tool route is the way to go. If you want to customize how agents fan in and out across multiple layers, building a graph with `asyncio.gather` might make more sense\n",
    "1. Planning vs. determinism\n",
    "    * If you want your planner (in this case the meta agent) to dynamically decide which tools to call and the order, you should use agents as tools whereas `asyncio.gather` makes more sense if you want a deterministic order.\n",
    "1. Latency sensitivity\n",
    "    * If you're highly sensitive to latency, you may want to use `asyncio` to avoid the additional upfront cost of planning the parallel tools and the overhead of tool outputs and longer context windows."
   ]
  }
 ],
 "metadata": {
  "kernelspec": {
   "display_name": "playgroundenv",
   "language": "python",
   "name": "python3"
  },
  "language_info": {
   "codemirror_mode": {
    "name": "ipython",
    "version": 3
   },
   "file_extension": ".py",
   "mimetype": "text/x-python",
   "name": "python",
   "nbconvert_exporter": "python",
   "pygments_lexer": "ipython3",
   "version": "3.13.5"
  }
 },
 "nbformat": 4,
 "nbformat_minor": 2
}
